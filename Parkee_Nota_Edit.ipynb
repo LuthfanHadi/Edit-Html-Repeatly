{
  "nbformat": 4,
  "nbformat_minor": 0,
  "metadata": {
    "colab": {
      "provenance": [],
      "collapsed_sections": [
        "y7x4ZCckQL6G",
        "wrZcXw_xqdHz",
        "WhWLDJvkqUcK"
      ]
    },
    "kernelspec": {
      "name": "python3",
      "display_name": "Python 3"
    },
    "language_info": {
      "name": "python"
    }
  },
  "cells": [
    {
      "cell_type": "markdown",
      "source": [
        "# **PREPARATION**"
      ],
      "metadata": {
        "id": "y7x4ZCckQL6G"
      }
    },
    {
      "cell_type": "code",
      "source": [
        "!pip install GrabzIt"
      ],
      "metadata": {
        "colab": {
          "base_uri": "https://localhost:8080/"
        },
        "id": "TLwTywRKP_Dh",
        "outputId": "2889fee6-4eee-417a-b203-a1772a6aca14"
      },
      "execution_count": null,
      "outputs": [
        {
          "output_type": "stream",
          "name": "stdout",
          "text": [
            "Looking in indexes: https://pypi.org/simple, https://us-python.pkg.dev/colab-wheels/public/simple/\n",
            "Requirement already satisfied: GrabzIt in /usr/local/lib/python3.7/dist-packages (3.5.2)\n"
          ]
        }
      ]
    },
    {
      "cell_type": "code",
      "source": [
        " \n",
        "import random\n",
        "import string\n",
        "\n",
        "from GrabzIt import GrabzItImageOptions\n",
        "from GrabzIt import GrabzItClient\n",
        "\n",
        "from PIL import Image\n",
        "def crop_photo(title):\n",
        "  im = Image.open(f'/content/{title}.jpg')\n",
        "  width, height = im.size\n",
        "  print(width, height)\n",
        "  im_crop = im.crop((365, 0, 1000, height))\n",
        "  im_crop.save(f'{title}_crop.jpg', quality=95)\n",
        "\n",
        "def htmlfile_to_png(title):\n",
        "  grabzIt = GrabzItClient.GrabzItClient(\"MzY1NTM1NTkxNmRlNGZhOWEwZGJjNDc0MWYwY2UwZGE=\", \"Hz8mLiFHP0s/Pz96P1w/bz89HjpmPz8/Pz8/Pz9QBD8=\")\n",
        "\n",
        "  options = GrabzItImageOptions.GrabzItImageOptions()\n",
        "  options.width = -1\n",
        "  options.height = -1\n",
        "  options.browserHeight = -1\n",
        "  options.format = \"jpg\"\n",
        "  grabzIt.FileToImage(f\"/content/{title}.html\", options)\n",
        "  # Then call the Save or SaveTo method\n",
        "  grabzIt.SaveTo(f\"{title}.jpg\")\n",
        "  crop_photo(title)\n",
        "  files.download(f\"{title}_crop.jpg\")\n",
        "\n",
        "def id_generator(size, chars=string.ascii_lowercase + string.digits):\n",
        "  return ''.join(random.choice(chars) for _ in range(size))\n",
        "\n",
        "def change_html(old_start,old_end,old_diff,old_ref,old_ticket,new_start,new_end,new_diff,new_ref,new_ticket,title):\n",
        "  # Remove the last segment of the path\n",
        "  base = os.path.dirname(os.path.abspath(file_name))\n",
        "\n",
        "  # Open the HTML in which you want to make changes\n",
        "  html = open(os.path.join(base, file_name))\n",
        "\n",
        "  # Parse HTML file in Beautiful Soup\n",
        "  soup = bs(html, 'html.parser')\n",
        "  #print(soup)\n",
        "  # Give location where text is\n",
        "  # stored which you wish to alter\n",
        "  old_start_sep = soup.find(\"td\", {\"align\":\"left\", \"width\":\"60%\", \"class\":\"m_3165595590402163778table-right-content\" ,\"style\":\"padding-top:40px\"})\n",
        "  old_end_sep = soup.find(\"td\", {\"align\":\"left\",\"width\":\"60%\", \"class\":\"m_3165595590402163778table-right-content\",\"style\":\"padding-bottom:40px\"})\n",
        "  old_diff_sep = soup.find(\"strong\", {\"style\":\"display:block;font-size:20px\"})\n",
        "  old_ref_sep = soup.find(\"td\", {\"align\":\"left\" ,\"width\":\"59%\", \"class\":\"m_3165595590402163778table-right-content\",\"style\":\"padding-bottom:40px\"})\n",
        "  old_ticket_sep = soup.find(\"td\", {\"align\":\"left\",\"width\":\"40%\",\"class\":\"m_3165595590402163778table-left-content\",\"style\":\"color:white\"})\n",
        "  #old_text = soup.find(\"td\")\n",
        "\n",
        "  # Replace the already stored text with\n",
        "  # the new text which you wish to assign\n",
        "  new_start_sep = old_start_sep.find(text=re.compile(old_start)).replace_with(new_start)\n",
        "  new_end_sep = old_end_sep.find(text=re.compile(old_end)).replace_with(new_end)\n",
        "  new_diff_sep = old_diff_sep.find(text=re.compile(old_diff)).replace_with(new_diff)\n",
        "  new_ref_sep = old_ref_sep.find(text=re.compile(old_ref)).replace_with(new_ref)\n",
        "  new_ticket_sep = old_ticket_sep.find(text=re.compile(old_ticket)).replace_with(new_ticket)\n",
        "  # Alter HTML file to see the changes done\n",
        "  with open(f\"{title}.html\", \"wb\") as f_output:\n",
        "    f_output.write(soup.prettify(\"utf-8\"))\n",
        "  \n",
        " "
      ],
      "metadata": {
        "id": "sht9IoHNPMFR"
      },
      "execution_count": null,
      "outputs": []
    },
    {
      "cell_type": "markdown",
      "source": [
        "# **GET COMPONENT**"
      ],
      "metadata": {
        "id": "l_ph6BQsQAig"
      }
    },
    {
      "cell_type": "code",
      "execution_count": null,
      "metadata": {
        "colab": {
          "base_uri": "https://localhost:8080/"
        },
        "id": "P5iORgWSS_p6",
        "outputId": "213ba89d-b0f7-4001-b7a8-d6b1053ee0d8"
      },
      "outputs": [
        {
          "output_type": "stream",
          "name": "stdout",
          "text": [
            "Drive already mounted at /content/drive; to attempt to forcibly remount, call drive.mount(\"/content/drive\", force_remount=True).\n",
            "Dari tanggal (YYYY-MM-DD) : 2022-08-25\n",
            "Sampai tanggal (YYYY-MM-DD) : 2022-09-08\n",
            "14 days, 0:00:00 <class 'datetime.timedelta'>\n"
          ]
        }
      ],
      "source": [
        "from bs4 import BeautifulSoup as bs\n",
        "import os\n",
        "import re\n",
        "from google.colab import files\n",
        "from google.colab import drive\n",
        "drive.mount('/content/drive')\n",
        "import datetime\n",
        "\n",
        "def Read_File():\n",
        "  get_files = files.upload()\n",
        "  file_str = str(get_files)\n",
        "  file_str = file_str.split(\"'\")\n",
        "  file_str_name = file_str[1]\n",
        "  print('Name File : ',file_str_name)\n",
        "  return file_str_name\n",
        "\n",
        "date_start_string = input(\"Dari tanggal (YYYY-MM-DD) : \")\n",
        "year, month, day = map(int, date_start_string.split('-'))\n",
        "date_start = datetime.date(year, month, day)\n",
        "\n",
        "date_end_string = input(\"Sampai tanggal (YYYY-MM-DD) : \")\n",
        "year, month, day = map(int, date_end_string.split('-'))\n",
        "date_end = datetime.date(year, month, day)\n",
        "\n",
        "date_count = date_end - date_start\n",
        "print(date_count,type(date_count))\n",
        "date_count_int = date_count.days\n",
        "\n",
        "file_name = \"/content/drive/MyDrive/PRIBADI/Nota/nota.html\"\n"
      ]
    },
    {
      "cell_type": "markdown",
      "source": [
        "# **MAIN OF PROGRAM**"
      ],
      "metadata": {
        "id": "wrZcXw_xqdHz"
      }
    },
    {
      "cell_type": "code",
      "source": [
        "date_now = date_start\n",
        "date_now += datetime.timedelta(days=-1)\n",
        "\n",
        "for i in range(0,date_count_int+1):\n",
        "  date_now += datetime.timedelta(days=1) \n",
        "  hour_start = datetime.timedelta(hours= 8 , minutes=random.randint(29,59), seconds=random.randint(00,59))\n",
        "  hour_end = datetime.timedelta(hours= 18 , minutes=random.randint(00,59), seconds=random.randint(00,59))\n",
        "  dif = hour_end - hour_start\n",
        "\n",
        "  hour_start_time = (datetime.datetime.min + hour_start).time()\n",
        "  full_start = datetime.datetime.combine(date_now,hour_start_time)\n",
        "  full_start_string = full_start.strftime(\"%d-%b-%Y %H:%M:%S\")\n",
        "  print(full_start_string,type(full_start_string))\n",
        "\n",
        "  hour_end_time = (datetime.datetime.min + hour_end).time()\n",
        "  full_end = datetime.datetime.combine(date_now,hour_end_time)\n",
        "  full_end_string = full_end.strftime(\"%d-%b-%Y %H:%M:%S\")\n",
        "  print(full_end_string,type(full_end_string))\n",
        "\n",
        "  dif_string = str(dif)\n",
        "  dif_full = \"0Hari \"+ dif_string.split(\":\")[0]+\"Jam \"+ dif_string.split(\":\")[1] + \"Menit\"\n",
        "  print(dif_full)\n",
        "\n",
        "  str_rand_1 = id_generator(8)\n",
        "  str_rand_2 = id_generator(4)\n",
        "  str_rand_3 = id_generator(4)\n",
        "  str_rand_4 = id_generator(4)\n",
        "  str_rand_5 = id_generator(12)\n",
        "  str_rand_6 = id_generator(6,chars=string.ascii_uppercase + string.digits)\n",
        "  str_rand_full = str_rand_1 +\"-\"+ str_rand_2 +\"-\"+ str_rand_3 +\"-\"+ str_rand_4 +\"-\"+str_rand_5 \n",
        "  str_rand_full_6 = \"TICKET #\"+str_rand_6\n",
        "\n",
        "  time_start_old = '08-Apr-2022 13:03:09'\n",
        "  time_end_old = '08-Apr-2022 18:06:57'\n",
        "  diff_old = '0hari 5jam 4menit'\n",
        "  ref_old = '3feb3e50-9d8b-487f-9bfa-0b40daca2da4'\n",
        "  ticket_old = \"TICKET #43WPW9\"\n",
        "\n",
        "  change_html(time_start_old,time_end_old,diff_old,ref_old,ticket_old,full_start_string,full_end_string,dif_full,str_rand_full,str_rand_full_6,date_now)\n",
        "  htmlfile_to_png(date_now)"
      ],
      "metadata": {
        "colab": {
          "base_uri": "https://localhost:8080/",
          "height": 1000
        },
        "id": "sU0844FWj38b",
        "outputId": "760ba54f-e6af-4918-9f06-3d191cbb44ff"
      },
      "execution_count": null,
      "outputs": [
        {
          "output_type": "stream",
          "name": "stdout",
          "text": [
            "25-Aug-2022 08:48:13 <class 'str'>\n",
            "25-Aug-2022 18:02:23 <class 'str'>\n",
            "0Hari 9Jam 14Menit\n",
            "1366 886\n"
          ]
        },
        {
          "output_type": "display_data",
          "data": {
            "text/plain": [
              "<IPython.core.display.Javascript object>"
            ],
            "application/javascript": [
              "\n",
              "    async function download(id, filename, size) {\n",
              "      if (!google.colab.kernel.accessAllowed) {\n",
              "        return;\n",
              "      }\n",
              "      const div = document.createElement('div');\n",
              "      const label = document.createElement('label');\n",
              "      label.textContent = `Downloading \"${filename}\": `;\n",
              "      div.appendChild(label);\n",
              "      const progress = document.createElement('progress');\n",
              "      progress.max = size;\n",
              "      div.appendChild(progress);\n",
              "      document.body.appendChild(div);\n",
              "\n",
              "      const buffers = [];\n",
              "      let downloaded = 0;\n",
              "\n",
              "      const channel = await google.colab.kernel.comms.open(id);\n",
              "      // Send a message to notify the kernel that we're ready.\n",
              "      channel.send({})\n",
              "\n",
              "      for await (const message of channel.messages) {\n",
              "        // Send a message to notify the kernel that we're ready.\n",
              "        channel.send({})\n",
              "        if (message.buffers) {\n",
              "          for (const buffer of message.buffers) {\n",
              "            buffers.push(buffer);\n",
              "            downloaded += buffer.byteLength;\n",
              "            progress.value = downloaded;\n",
              "          }\n",
              "        }\n",
              "      }\n",
              "      const blob = new Blob(buffers, {type: 'application/binary'});\n",
              "      const a = document.createElement('a');\n",
              "      a.href = window.URL.createObjectURL(blob);\n",
              "      a.download = filename;\n",
              "      div.appendChild(a);\n",
              "      a.click();\n",
              "      div.remove();\n",
              "    }\n",
              "  "
            ]
          },
          "metadata": {}
        },
        {
          "output_type": "display_data",
          "data": {
            "text/plain": [
              "<IPython.core.display.Javascript object>"
            ],
            "application/javascript": [
              "download(\"download_a7081e41-998c-458f-8d68-cd404894471d\", \"2022-08-25_crop.jpg\", 120354)"
            ]
          },
          "metadata": {}
        },
        {
          "output_type": "stream",
          "name": "stdout",
          "text": [
            "26-Aug-2022 08:57:06 <class 'str'>\n",
            "26-Aug-2022 18:01:50 <class 'str'>\n",
            "0Hari 9Jam 04Menit\n",
            "1366 886\n"
          ]
        },
        {
          "output_type": "display_data",
          "data": {
            "text/plain": [
              "<IPython.core.display.Javascript object>"
            ],
            "application/javascript": [
              "\n",
              "    async function download(id, filename, size) {\n",
              "      if (!google.colab.kernel.accessAllowed) {\n",
              "        return;\n",
              "      }\n",
              "      const div = document.createElement('div');\n",
              "      const label = document.createElement('label');\n",
              "      label.textContent = `Downloading \"${filename}\": `;\n",
              "      div.appendChild(label);\n",
              "      const progress = document.createElement('progress');\n",
              "      progress.max = size;\n",
              "      div.appendChild(progress);\n",
              "      document.body.appendChild(div);\n",
              "\n",
              "      const buffers = [];\n",
              "      let downloaded = 0;\n",
              "\n",
              "      const channel = await google.colab.kernel.comms.open(id);\n",
              "      // Send a message to notify the kernel that we're ready.\n",
              "      channel.send({})\n",
              "\n",
              "      for await (const message of channel.messages) {\n",
              "        // Send a message to notify the kernel that we're ready.\n",
              "        channel.send({})\n",
              "        if (message.buffers) {\n",
              "          for (const buffer of message.buffers) {\n",
              "            buffers.push(buffer);\n",
              "            downloaded += buffer.byteLength;\n",
              "            progress.value = downloaded;\n",
              "          }\n",
              "        }\n",
              "      }\n",
              "      const blob = new Blob(buffers, {type: 'application/binary'});\n",
              "      const a = document.createElement('a');\n",
              "      a.href = window.URL.createObjectURL(blob);\n",
              "      a.download = filename;\n",
              "      div.appendChild(a);\n",
              "      a.click();\n",
              "      div.remove();\n",
              "    }\n",
              "  "
            ]
          },
          "metadata": {}
        },
        {
          "output_type": "display_data",
          "data": {
            "text/plain": [
              "<IPython.core.display.Javascript object>"
            ],
            "application/javascript": [
              "download(\"download_d895e8e7-893b-4b87-a415-16700b515a93\", \"2022-08-26_crop.jpg\", 120500)"
            ]
          },
          "metadata": {}
        },
        {
          "output_type": "stream",
          "name": "stdout",
          "text": [
            "27-Aug-2022 08:52:39 <class 'str'>\n",
            "27-Aug-2022 18:37:29 <class 'str'>\n",
            "0Hari 9Jam 44Menit\n",
            "1366 886\n"
          ]
        },
        {
          "output_type": "display_data",
          "data": {
            "text/plain": [
              "<IPython.core.display.Javascript object>"
            ],
            "application/javascript": [
              "\n",
              "    async function download(id, filename, size) {\n",
              "      if (!google.colab.kernel.accessAllowed) {\n",
              "        return;\n",
              "      }\n",
              "      const div = document.createElement('div');\n",
              "      const label = document.createElement('label');\n",
              "      label.textContent = `Downloading \"${filename}\": `;\n",
              "      div.appendChild(label);\n",
              "      const progress = document.createElement('progress');\n",
              "      progress.max = size;\n",
              "      div.appendChild(progress);\n",
              "      document.body.appendChild(div);\n",
              "\n",
              "      const buffers = [];\n",
              "      let downloaded = 0;\n",
              "\n",
              "      const channel = await google.colab.kernel.comms.open(id);\n",
              "      // Send a message to notify the kernel that we're ready.\n",
              "      channel.send({})\n",
              "\n",
              "      for await (const message of channel.messages) {\n",
              "        // Send a message to notify the kernel that we're ready.\n",
              "        channel.send({})\n",
              "        if (message.buffers) {\n",
              "          for (const buffer of message.buffers) {\n",
              "            buffers.push(buffer);\n",
              "            downloaded += buffer.byteLength;\n",
              "            progress.value = downloaded;\n",
              "          }\n",
              "        }\n",
              "      }\n",
              "      const blob = new Blob(buffers, {type: 'application/binary'});\n",
              "      const a = document.createElement('a');\n",
              "      a.href = window.URL.createObjectURL(blob);\n",
              "      a.download = filename;\n",
              "      div.appendChild(a);\n",
              "      a.click();\n",
              "      div.remove();\n",
              "    }\n",
              "  "
            ]
          },
          "metadata": {}
        },
        {
          "output_type": "display_data",
          "data": {
            "text/plain": [
              "<IPython.core.display.Javascript object>"
            ],
            "application/javascript": [
              "download(\"download_1969914a-150b-42ea-880e-effdab7847ad\", \"2022-08-27_crop.jpg\", 120603)"
            ]
          },
          "metadata": {}
        },
        {
          "output_type": "stream",
          "name": "stdout",
          "text": [
            "28-Aug-2022 08:44:26 <class 'str'>\n",
            "28-Aug-2022 18:13:43 <class 'str'>\n",
            "0Hari 9Jam 29Menit\n",
            "1366 886\n"
          ]
        },
        {
          "output_type": "display_data",
          "data": {
            "text/plain": [
              "<IPython.core.display.Javascript object>"
            ],
            "application/javascript": [
              "\n",
              "    async function download(id, filename, size) {\n",
              "      if (!google.colab.kernel.accessAllowed) {\n",
              "        return;\n",
              "      }\n",
              "      const div = document.createElement('div');\n",
              "      const label = document.createElement('label');\n",
              "      label.textContent = `Downloading \"${filename}\": `;\n",
              "      div.appendChild(label);\n",
              "      const progress = document.createElement('progress');\n",
              "      progress.max = size;\n",
              "      div.appendChild(progress);\n",
              "      document.body.appendChild(div);\n",
              "\n",
              "      const buffers = [];\n",
              "      let downloaded = 0;\n",
              "\n",
              "      const channel = await google.colab.kernel.comms.open(id);\n",
              "      // Send a message to notify the kernel that we're ready.\n",
              "      channel.send({})\n",
              "\n",
              "      for await (const message of channel.messages) {\n",
              "        // Send a message to notify the kernel that we're ready.\n",
              "        channel.send({})\n",
              "        if (message.buffers) {\n",
              "          for (const buffer of message.buffers) {\n",
              "            buffers.push(buffer);\n",
              "            downloaded += buffer.byteLength;\n",
              "            progress.value = downloaded;\n",
              "          }\n",
              "        }\n",
              "      }\n",
              "      const blob = new Blob(buffers, {type: 'application/binary'});\n",
              "      const a = document.createElement('a');\n",
              "      a.href = window.URL.createObjectURL(blob);\n",
              "      a.download = filename;\n",
              "      div.appendChild(a);\n",
              "      a.click();\n",
              "      div.remove();\n",
              "    }\n",
              "  "
            ]
          },
          "metadata": {}
        },
        {
          "output_type": "display_data",
          "data": {
            "text/plain": [
              "<IPython.core.display.Javascript object>"
            ],
            "application/javascript": [
              "download(\"download_16e333ab-790f-4196-9a6d-ebe0614eb7d9\", \"2022-08-28_crop.jpg\", 120667)"
            ]
          },
          "metadata": {}
        },
        {
          "output_type": "stream",
          "name": "stdout",
          "text": [
            "29-Aug-2022 08:42:28 <class 'str'>\n",
            "29-Aug-2022 18:06:54 <class 'str'>\n",
            "0Hari 9Jam 24Menit\n",
            "1366 886\n"
          ]
        },
        {
          "output_type": "display_data",
          "data": {
            "text/plain": [
              "<IPython.core.display.Javascript object>"
            ],
            "application/javascript": [
              "\n",
              "    async function download(id, filename, size) {\n",
              "      if (!google.colab.kernel.accessAllowed) {\n",
              "        return;\n",
              "      }\n",
              "      const div = document.createElement('div');\n",
              "      const label = document.createElement('label');\n",
              "      label.textContent = `Downloading \"${filename}\": `;\n",
              "      div.appendChild(label);\n",
              "      const progress = document.createElement('progress');\n",
              "      progress.max = size;\n",
              "      div.appendChild(progress);\n",
              "      document.body.appendChild(div);\n",
              "\n",
              "      const buffers = [];\n",
              "      let downloaded = 0;\n",
              "\n",
              "      const channel = await google.colab.kernel.comms.open(id);\n",
              "      // Send a message to notify the kernel that we're ready.\n",
              "      channel.send({})\n",
              "\n",
              "      for await (const message of channel.messages) {\n",
              "        // Send a message to notify the kernel that we're ready.\n",
              "        channel.send({})\n",
              "        if (message.buffers) {\n",
              "          for (const buffer of message.buffers) {\n",
              "            buffers.push(buffer);\n",
              "            downloaded += buffer.byteLength;\n",
              "            progress.value = downloaded;\n",
              "          }\n",
              "        }\n",
              "      }\n",
              "      const blob = new Blob(buffers, {type: 'application/binary'});\n",
              "      const a = document.createElement('a');\n",
              "      a.href = window.URL.createObjectURL(blob);\n",
              "      a.download = filename;\n",
              "      div.appendChild(a);\n",
              "      a.click();\n",
              "      div.remove();\n",
              "    }\n",
              "  "
            ]
          },
          "metadata": {}
        },
        {
          "output_type": "display_data",
          "data": {
            "text/plain": [
              "<IPython.core.display.Javascript object>"
            ],
            "application/javascript": [
              "download(\"download_4513cd1b-adc1-45f8-b4ae-72de53a5be2b\", \"2022-08-29_crop.jpg\", 120484)"
            ]
          },
          "metadata": {}
        },
        {
          "output_type": "stream",
          "name": "stdout",
          "text": [
            "30-Aug-2022 08:33:42 <class 'str'>\n",
            "30-Aug-2022 18:45:18 <class 'str'>\n",
            "0Hari 10Jam 11Menit\n",
            "1366 886\n"
          ]
        },
        {
          "output_type": "display_data",
          "data": {
            "text/plain": [
              "<IPython.core.display.Javascript object>"
            ],
            "application/javascript": [
              "\n",
              "    async function download(id, filename, size) {\n",
              "      if (!google.colab.kernel.accessAllowed) {\n",
              "        return;\n",
              "      }\n",
              "      const div = document.createElement('div');\n",
              "      const label = document.createElement('label');\n",
              "      label.textContent = `Downloading \"${filename}\": `;\n",
              "      div.appendChild(label);\n",
              "      const progress = document.createElement('progress');\n",
              "      progress.max = size;\n",
              "      div.appendChild(progress);\n",
              "      document.body.appendChild(div);\n",
              "\n",
              "      const buffers = [];\n",
              "      let downloaded = 0;\n",
              "\n",
              "      const channel = await google.colab.kernel.comms.open(id);\n",
              "      // Send a message to notify the kernel that we're ready.\n",
              "      channel.send({})\n",
              "\n",
              "      for await (const message of channel.messages) {\n",
              "        // Send a message to notify the kernel that we're ready.\n",
              "        channel.send({})\n",
              "        if (message.buffers) {\n",
              "          for (const buffer of message.buffers) {\n",
              "            buffers.push(buffer);\n",
              "            downloaded += buffer.byteLength;\n",
              "            progress.value = downloaded;\n",
              "          }\n",
              "        }\n",
              "      }\n",
              "      const blob = new Blob(buffers, {type: 'application/binary'});\n",
              "      const a = document.createElement('a');\n",
              "      a.href = window.URL.createObjectURL(blob);\n",
              "      a.download = filename;\n",
              "      div.appendChild(a);\n",
              "      a.click();\n",
              "      div.remove();\n",
              "    }\n",
              "  "
            ]
          },
          "metadata": {}
        },
        {
          "output_type": "display_data",
          "data": {
            "text/plain": [
              "<IPython.core.display.Javascript object>"
            ],
            "application/javascript": [
              "download(\"download_4589bc1d-f727-4fc3-bbae-35c3df182b55\", \"2022-08-30_crop.jpg\", 120434)"
            ]
          },
          "metadata": {}
        },
        {
          "output_type": "stream",
          "name": "stdout",
          "text": [
            "31-Aug-2022 08:38:29 <class 'str'>\n",
            "31-Aug-2022 18:54:45 <class 'str'>\n",
            "0Hari 10Jam 16Menit\n",
            "1366 886\n"
          ]
        },
        {
          "output_type": "display_data",
          "data": {
            "text/plain": [
              "<IPython.core.display.Javascript object>"
            ],
            "application/javascript": [
              "\n",
              "    async function download(id, filename, size) {\n",
              "      if (!google.colab.kernel.accessAllowed) {\n",
              "        return;\n",
              "      }\n",
              "      const div = document.createElement('div');\n",
              "      const label = document.createElement('label');\n",
              "      label.textContent = `Downloading \"${filename}\": `;\n",
              "      div.appendChild(label);\n",
              "      const progress = document.createElement('progress');\n",
              "      progress.max = size;\n",
              "      div.appendChild(progress);\n",
              "      document.body.appendChild(div);\n",
              "\n",
              "      const buffers = [];\n",
              "      let downloaded = 0;\n",
              "\n",
              "      const channel = await google.colab.kernel.comms.open(id);\n",
              "      // Send a message to notify the kernel that we're ready.\n",
              "      channel.send({})\n",
              "\n",
              "      for await (const message of channel.messages) {\n",
              "        // Send a message to notify the kernel that we're ready.\n",
              "        channel.send({})\n",
              "        if (message.buffers) {\n",
              "          for (const buffer of message.buffers) {\n",
              "            buffers.push(buffer);\n",
              "            downloaded += buffer.byteLength;\n",
              "            progress.value = downloaded;\n",
              "          }\n",
              "        }\n",
              "      }\n",
              "      const blob = new Blob(buffers, {type: 'application/binary'});\n",
              "      const a = document.createElement('a');\n",
              "      a.href = window.URL.createObjectURL(blob);\n",
              "      a.download = filename;\n",
              "      div.appendChild(a);\n",
              "      a.click();\n",
              "      div.remove();\n",
              "    }\n",
              "  "
            ]
          },
          "metadata": {}
        },
        {
          "output_type": "display_data",
          "data": {
            "text/plain": [
              "<IPython.core.display.Javascript object>"
            ],
            "application/javascript": [
              "download(\"download_9c9d6481-71c1-4514-94e9-39614f62063c\", \"2022-08-31_crop.jpg\", 120914)"
            ]
          },
          "metadata": {}
        },
        {
          "output_type": "stream",
          "name": "stdout",
          "text": [
            "01-Sep-2022 08:32:34 <class 'str'>\n",
            "01-Sep-2022 18:12:41 <class 'str'>\n",
            "0Hari 9Jam 40Menit\n",
            "1366 886\n"
          ]
        },
        {
          "output_type": "display_data",
          "data": {
            "text/plain": [
              "<IPython.core.display.Javascript object>"
            ],
            "application/javascript": [
              "\n",
              "    async function download(id, filename, size) {\n",
              "      if (!google.colab.kernel.accessAllowed) {\n",
              "        return;\n",
              "      }\n",
              "      const div = document.createElement('div');\n",
              "      const label = document.createElement('label');\n",
              "      label.textContent = `Downloading \"${filename}\": `;\n",
              "      div.appendChild(label);\n",
              "      const progress = document.createElement('progress');\n",
              "      progress.max = size;\n",
              "      div.appendChild(progress);\n",
              "      document.body.appendChild(div);\n",
              "\n",
              "      const buffers = [];\n",
              "      let downloaded = 0;\n",
              "\n",
              "      const channel = await google.colab.kernel.comms.open(id);\n",
              "      // Send a message to notify the kernel that we're ready.\n",
              "      channel.send({})\n",
              "\n",
              "      for await (const message of channel.messages) {\n",
              "        // Send a message to notify the kernel that we're ready.\n",
              "        channel.send({})\n",
              "        if (message.buffers) {\n",
              "          for (const buffer of message.buffers) {\n",
              "            buffers.push(buffer);\n",
              "            downloaded += buffer.byteLength;\n",
              "            progress.value = downloaded;\n",
              "          }\n",
              "        }\n",
              "      }\n",
              "      const blob = new Blob(buffers, {type: 'application/binary'});\n",
              "      const a = document.createElement('a');\n",
              "      a.href = window.URL.createObjectURL(blob);\n",
              "      a.download = filename;\n",
              "      div.appendChild(a);\n",
              "      a.click();\n",
              "      div.remove();\n",
              "    }\n",
              "  "
            ]
          },
          "metadata": {}
        },
        {
          "output_type": "display_data",
          "data": {
            "text/plain": [
              "<IPython.core.display.Javascript object>"
            ],
            "application/javascript": [
              "download(\"download_f1418add-f5f1-4fd9-9b5d-969055543ba2\", \"2022-09-01_crop.jpg\", 120313)"
            ]
          },
          "metadata": {}
        },
        {
          "output_type": "stream",
          "name": "stdout",
          "text": [
            "02-Sep-2022 08:43:14 <class 'str'>\n",
            "02-Sep-2022 18:09:33 <class 'str'>\n",
            "0Hari 9Jam 26Menit\n",
            "1366 886\n"
          ]
        },
        {
          "output_type": "display_data",
          "data": {
            "text/plain": [
              "<IPython.core.display.Javascript object>"
            ],
            "application/javascript": [
              "\n",
              "    async function download(id, filename, size) {\n",
              "      if (!google.colab.kernel.accessAllowed) {\n",
              "        return;\n",
              "      }\n",
              "      const div = document.createElement('div');\n",
              "      const label = document.createElement('label');\n",
              "      label.textContent = `Downloading \"${filename}\": `;\n",
              "      div.appendChild(label);\n",
              "      const progress = document.createElement('progress');\n",
              "      progress.max = size;\n",
              "      div.appendChild(progress);\n",
              "      document.body.appendChild(div);\n",
              "\n",
              "      const buffers = [];\n",
              "      let downloaded = 0;\n",
              "\n",
              "      const channel = await google.colab.kernel.comms.open(id);\n",
              "      // Send a message to notify the kernel that we're ready.\n",
              "      channel.send({})\n",
              "\n",
              "      for await (const message of channel.messages) {\n",
              "        // Send a message to notify the kernel that we're ready.\n",
              "        channel.send({})\n",
              "        if (message.buffers) {\n",
              "          for (const buffer of message.buffers) {\n",
              "            buffers.push(buffer);\n",
              "            downloaded += buffer.byteLength;\n",
              "            progress.value = downloaded;\n",
              "          }\n",
              "        }\n",
              "      }\n",
              "      const blob = new Blob(buffers, {type: 'application/binary'});\n",
              "      const a = document.createElement('a');\n",
              "      a.href = window.URL.createObjectURL(blob);\n",
              "      a.download = filename;\n",
              "      div.appendChild(a);\n",
              "      a.click();\n",
              "      div.remove();\n",
              "    }\n",
              "  "
            ]
          },
          "metadata": {}
        },
        {
          "output_type": "display_data",
          "data": {
            "text/plain": [
              "<IPython.core.display.Javascript object>"
            ],
            "application/javascript": [
              "download(\"download_587d1a4f-6cfe-485b-955f-ecfcaee4dcc4\", \"2022-09-02_crop.jpg\", 120257)"
            ]
          },
          "metadata": {}
        },
        {
          "output_type": "stream",
          "name": "stdout",
          "text": [
            "03-Sep-2022 08:45:23 <class 'str'>\n",
            "03-Sep-2022 18:10:59 <class 'str'>\n",
            "0Hari 9Jam 25Menit\n",
            "1366 886\n"
          ]
        },
        {
          "output_type": "display_data",
          "data": {
            "text/plain": [
              "<IPython.core.display.Javascript object>"
            ],
            "application/javascript": [
              "\n",
              "    async function download(id, filename, size) {\n",
              "      if (!google.colab.kernel.accessAllowed) {\n",
              "        return;\n",
              "      }\n",
              "      const div = document.createElement('div');\n",
              "      const label = document.createElement('label');\n",
              "      label.textContent = `Downloading \"${filename}\": `;\n",
              "      div.appendChild(label);\n",
              "      const progress = document.createElement('progress');\n",
              "      progress.max = size;\n",
              "      div.appendChild(progress);\n",
              "      document.body.appendChild(div);\n",
              "\n",
              "      const buffers = [];\n",
              "      let downloaded = 0;\n",
              "\n",
              "      const channel = await google.colab.kernel.comms.open(id);\n",
              "      // Send a message to notify the kernel that we're ready.\n",
              "      channel.send({})\n",
              "\n",
              "      for await (const message of channel.messages) {\n",
              "        // Send a message to notify the kernel that we're ready.\n",
              "        channel.send({})\n",
              "        if (message.buffers) {\n",
              "          for (const buffer of message.buffers) {\n",
              "            buffers.push(buffer);\n",
              "            downloaded += buffer.byteLength;\n",
              "            progress.value = downloaded;\n",
              "          }\n",
              "        }\n",
              "      }\n",
              "      const blob = new Blob(buffers, {type: 'application/binary'});\n",
              "      const a = document.createElement('a');\n",
              "      a.href = window.URL.createObjectURL(blob);\n",
              "      a.download = filename;\n",
              "      div.appendChild(a);\n",
              "      a.click();\n",
              "      div.remove();\n",
              "    }\n",
              "  "
            ]
          },
          "metadata": {}
        },
        {
          "output_type": "display_data",
          "data": {
            "text/plain": [
              "<IPython.core.display.Javascript object>"
            ],
            "application/javascript": [
              "download(\"download_319f9c49-65d2-41d9-ab1d-b5aed8b78236\", \"2022-09-03_crop.jpg\", 120458)"
            ]
          },
          "metadata": {}
        },
        {
          "output_type": "stream",
          "name": "stdout",
          "text": [
            "04-Sep-2022 08:50:19 <class 'str'>\n",
            "04-Sep-2022 18:02:03 <class 'str'>\n",
            "0Hari 9Jam 11Menit\n",
            "1366 886\n"
          ]
        },
        {
          "output_type": "display_data",
          "data": {
            "text/plain": [
              "<IPython.core.display.Javascript object>"
            ],
            "application/javascript": [
              "\n",
              "    async function download(id, filename, size) {\n",
              "      if (!google.colab.kernel.accessAllowed) {\n",
              "        return;\n",
              "      }\n",
              "      const div = document.createElement('div');\n",
              "      const label = document.createElement('label');\n",
              "      label.textContent = `Downloading \"${filename}\": `;\n",
              "      div.appendChild(label);\n",
              "      const progress = document.createElement('progress');\n",
              "      progress.max = size;\n",
              "      div.appendChild(progress);\n",
              "      document.body.appendChild(div);\n",
              "\n",
              "      const buffers = [];\n",
              "      let downloaded = 0;\n",
              "\n",
              "      const channel = await google.colab.kernel.comms.open(id);\n",
              "      // Send a message to notify the kernel that we're ready.\n",
              "      channel.send({})\n",
              "\n",
              "      for await (const message of channel.messages) {\n",
              "        // Send a message to notify the kernel that we're ready.\n",
              "        channel.send({})\n",
              "        if (message.buffers) {\n",
              "          for (const buffer of message.buffers) {\n",
              "            buffers.push(buffer);\n",
              "            downloaded += buffer.byteLength;\n",
              "            progress.value = downloaded;\n",
              "          }\n",
              "        }\n",
              "      }\n",
              "      const blob = new Blob(buffers, {type: 'application/binary'});\n",
              "      const a = document.createElement('a');\n",
              "      a.href = window.URL.createObjectURL(blob);\n",
              "      a.download = filename;\n",
              "      div.appendChild(a);\n",
              "      a.click();\n",
              "      div.remove();\n",
              "    }\n",
              "  "
            ]
          },
          "metadata": {}
        },
        {
          "output_type": "display_data",
          "data": {
            "text/plain": [
              "<IPython.core.display.Javascript object>"
            ],
            "application/javascript": [
              "download(\"download_e648b0a0-4fd7-4e77-9e68-a7edc52920aa\", \"2022-09-04_crop.jpg\", 120514)"
            ]
          },
          "metadata": {}
        },
        {
          "output_type": "stream",
          "name": "stdout",
          "text": [
            "05-Sep-2022 08:44:45 <class 'str'>\n",
            "05-Sep-2022 18:40:30 <class 'str'>\n",
            "0Hari 9Jam 55Menit\n",
            "1366 886\n"
          ]
        },
        {
          "output_type": "display_data",
          "data": {
            "text/plain": [
              "<IPython.core.display.Javascript object>"
            ],
            "application/javascript": [
              "\n",
              "    async function download(id, filename, size) {\n",
              "      if (!google.colab.kernel.accessAllowed) {\n",
              "        return;\n",
              "      }\n",
              "      const div = document.createElement('div');\n",
              "      const label = document.createElement('label');\n",
              "      label.textContent = `Downloading \"${filename}\": `;\n",
              "      div.appendChild(label);\n",
              "      const progress = document.createElement('progress');\n",
              "      progress.max = size;\n",
              "      div.appendChild(progress);\n",
              "      document.body.appendChild(div);\n",
              "\n",
              "      const buffers = [];\n",
              "      let downloaded = 0;\n",
              "\n",
              "      const channel = await google.colab.kernel.comms.open(id);\n",
              "      // Send a message to notify the kernel that we're ready.\n",
              "      channel.send({})\n",
              "\n",
              "      for await (const message of channel.messages) {\n",
              "        // Send a message to notify the kernel that we're ready.\n",
              "        channel.send({})\n",
              "        if (message.buffers) {\n",
              "          for (const buffer of message.buffers) {\n",
              "            buffers.push(buffer);\n",
              "            downloaded += buffer.byteLength;\n",
              "            progress.value = downloaded;\n",
              "          }\n",
              "        }\n",
              "      }\n",
              "      const blob = new Blob(buffers, {type: 'application/binary'});\n",
              "      const a = document.createElement('a');\n",
              "      a.href = window.URL.createObjectURL(blob);\n",
              "      a.download = filename;\n",
              "      div.appendChild(a);\n",
              "      a.click();\n",
              "      div.remove();\n",
              "    }\n",
              "  "
            ]
          },
          "metadata": {}
        },
        {
          "output_type": "display_data",
          "data": {
            "text/plain": [
              "<IPython.core.display.Javascript object>"
            ],
            "application/javascript": [
              "download(\"download_2af13137-831f-47ac-87b7-8962c80a9f57\", \"2022-09-05_crop.jpg\", 120089)"
            ]
          },
          "metadata": {}
        },
        {
          "output_type": "stream",
          "name": "stdout",
          "text": [
            "06-Sep-2022 08:56:03 <class 'str'>\n",
            "06-Sep-2022 18:05:42 <class 'str'>\n",
            "0Hari 9Jam 09Menit\n",
            "1366 886\n"
          ]
        },
        {
          "output_type": "display_data",
          "data": {
            "text/plain": [
              "<IPython.core.display.Javascript object>"
            ],
            "application/javascript": [
              "\n",
              "    async function download(id, filename, size) {\n",
              "      if (!google.colab.kernel.accessAllowed) {\n",
              "        return;\n",
              "      }\n",
              "      const div = document.createElement('div');\n",
              "      const label = document.createElement('label');\n",
              "      label.textContent = `Downloading \"${filename}\": `;\n",
              "      div.appendChild(label);\n",
              "      const progress = document.createElement('progress');\n",
              "      progress.max = size;\n",
              "      div.appendChild(progress);\n",
              "      document.body.appendChild(div);\n",
              "\n",
              "      const buffers = [];\n",
              "      let downloaded = 0;\n",
              "\n",
              "      const channel = await google.colab.kernel.comms.open(id);\n",
              "      // Send a message to notify the kernel that we're ready.\n",
              "      channel.send({})\n",
              "\n",
              "      for await (const message of channel.messages) {\n",
              "        // Send a message to notify the kernel that we're ready.\n",
              "        channel.send({})\n",
              "        if (message.buffers) {\n",
              "          for (const buffer of message.buffers) {\n",
              "            buffers.push(buffer);\n",
              "            downloaded += buffer.byteLength;\n",
              "            progress.value = downloaded;\n",
              "          }\n",
              "        }\n",
              "      }\n",
              "      const blob = new Blob(buffers, {type: 'application/binary'});\n",
              "      const a = document.createElement('a');\n",
              "      a.href = window.URL.createObjectURL(blob);\n",
              "      a.download = filename;\n",
              "      div.appendChild(a);\n",
              "      a.click();\n",
              "      div.remove();\n",
              "    }\n",
              "  "
            ]
          },
          "metadata": {}
        },
        {
          "output_type": "display_data",
          "data": {
            "text/plain": [
              "<IPython.core.display.Javascript object>"
            ],
            "application/javascript": [
              "download(\"download_528e3bf2-0515-42fd-bcb3-114ae5775de4\", \"2022-09-06_crop.jpg\", 120844)"
            ]
          },
          "metadata": {}
        },
        {
          "output_type": "stream",
          "name": "stdout",
          "text": [
            "07-Sep-2022 08:58:01 <class 'str'>\n",
            "07-Sep-2022 18:12:42 <class 'str'>\n",
            "0Hari 9Jam 14Menit\n",
            "1366 886\n"
          ]
        },
        {
          "output_type": "display_data",
          "data": {
            "text/plain": [
              "<IPython.core.display.Javascript object>"
            ],
            "application/javascript": [
              "\n",
              "    async function download(id, filename, size) {\n",
              "      if (!google.colab.kernel.accessAllowed) {\n",
              "        return;\n",
              "      }\n",
              "      const div = document.createElement('div');\n",
              "      const label = document.createElement('label');\n",
              "      label.textContent = `Downloading \"${filename}\": `;\n",
              "      div.appendChild(label);\n",
              "      const progress = document.createElement('progress');\n",
              "      progress.max = size;\n",
              "      div.appendChild(progress);\n",
              "      document.body.appendChild(div);\n",
              "\n",
              "      const buffers = [];\n",
              "      let downloaded = 0;\n",
              "\n",
              "      const channel = await google.colab.kernel.comms.open(id);\n",
              "      // Send a message to notify the kernel that we're ready.\n",
              "      channel.send({})\n",
              "\n",
              "      for await (const message of channel.messages) {\n",
              "        // Send a message to notify the kernel that we're ready.\n",
              "        channel.send({})\n",
              "        if (message.buffers) {\n",
              "          for (const buffer of message.buffers) {\n",
              "            buffers.push(buffer);\n",
              "            downloaded += buffer.byteLength;\n",
              "            progress.value = downloaded;\n",
              "          }\n",
              "        }\n",
              "      }\n",
              "      const blob = new Blob(buffers, {type: 'application/binary'});\n",
              "      const a = document.createElement('a');\n",
              "      a.href = window.URL.createObjectURL(blob);\n",
              "      a.download = filename;\n",
              "      div.appendChild(a);\n",
              "      a.click();\n",
              "      div.remove();\n",
              "    }\n",
              "  "
            ]
          },
          "metadata": {}
        },
        {
          "output_type": "display_data",
          "data": {
            "text/plain": [
              "<IPython.core.display.Javascript object>"
            ],
            "application/javascript": [
              "download(\"download_2a20f8b7-ff5a-432e-8727-500b66e2eda4\", \"2022-09-07_crop.jpg\", 120203)"
            ]
          },
          "metadata": {}
        },
        {
          "output_type": "stream",
          "name": "stdout",
          "text": [
            "08-Sep-2022 08:40:44 <class 'str'>\n",
            "08-Sep-2022 18:56:53 <class 'str'>\n",
            "0Hari 10Jam 16Menit\n",
            "1366 886\n"
          ]
        },
        {
          "output_type": "display_data",
          "data": {
            "text/plain": [
              "<IPython.core.display.Javascript object>"
            ],
            "application/javascript": [
              "\n",
              "    async function download(id, filename, size) {\n",
              "      if (!google.colab.kernel.accessAllowed) {\n",
              "        return;\n",
              "      }\n",
              "      const div = document.createElement('div');\n",
              "      const label = document.createElement('label');\n",
              "      label.textContent = `Downloading \"${filename}\": `;\n",
              "      div.appendChild(label);\n",
              "      const progress = document.createElement('progress');\n",
              "      progress.max = size;\n",
              "      div.appendChild(progress);\n",
              "      document.body.appendChild(div);\n",
              "\n",
              "      const buffers = [];\n",
              "      let downloaded = 0;\n",
              "\n",
              "      const channel = await google.colab.kernel.comms.open(id);\n",
              "      // Send a message to notify the kernel that we're ready.\n",
              "      channel.send({})\n",
              "\n",
              "      for await (const message of channel.messages) {\n",
              "        // Send a message to notify the kernel that we're ready.\n",
              "        channel.send({})\n",
              "        if (message.buffers) {\n",
              "          for (const buffer of message.buffers) {\n",
              "            buffers.push(buffer);\n",
              "            downloaded += buffer.byteLength;\n",
              "            progress.value = downloaded;\n",
              "          }\n",
              "        }\n",
              "      }\n",
              "      const blob = new Blob(buffers, {type: 'application/binary'});\n",
              "      const a = document.createElement('a');\n",
              "      a.href = window.URL.createObjectURL(blob);\n",
              "      a.download = filename;\n",
              "      div.appendChild(a);\n",
              "      a.click();\n",
              "      div.remove();\n",
              "    }\n",
              "  "
            ]
          },
          "metadata": {}
        },
        {
          "output_type": "display_data",
          "data": {
            "text/plain": [
              "<IPython.core.display.Javascript object>"
            ],
            "application/javascript": [
              "download(\"download_529c388c-e4c1-4471-80fe-b411a4e126fc\", \"2022-09-08_crop.jpg\", 121195)"
            ]
          },
          "metadata": {}
        }
      ]
    },
    {
      "cell_type": "markdown",
      "source": [
        "# **RISET**"
      ],
      "metadata": {
        "id": "WhWLDJvkqUcK"
      }
    },
    {
      "cell_type": "code",
      "source": [
        "hour_start = datetime.timedelta(hours= 8 , minutes=random.randint(29,59), seconds=random.randint(00,59))\n",
        "hour_end = datetime.timedelta(hours= 18 , minutes=random.randint(00,59), seconds=random.randint(00,59))\n",
        "dif = hour_end - hour_start\n",
        "days, hours, minutes = dif.days, dif.seconds // 3600, dif.seconds // 60 % 60\n",
        "print(dif)\n",
        "print(days, hours, minutes)\n",
        "if hours == 9:\n",
        "  print('sembilan')\n",
        "elif hours == 10:\n",
        "  print('sepuluh')\n"
      ],
      "metadata": {
        "colab": {
          "base_uri": "https://localhost:8080/"
        },
        "id": "4ajNKTVbnU2Q",
        "outputId": "a187caaf-36a2-4147-b3b8-2eeed9cd4026"
      },
      "execution_count": null,
      "outputs": [
        {
          "output_type": "stream",
          "name": "stdout",
          "text": [
            "9:48:07\n",
            "0 9 48\n",
            "sembilan\n"
          ]
        }
      ]
    }
  ]
}